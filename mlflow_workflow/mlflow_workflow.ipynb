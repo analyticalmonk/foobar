{
 "cells": [
  {
   "cell_type": "markdown",
   "metadata": {},
   "source": [
    "# MLFlow\n",
    "\n",
    "End to end example integrating MLFlow with training and serving of models."
   ]
  },
  {
   "cell_type": "markdown",
   "metadata": {
    "toc-hr-collapsed": false
   },
   "source": [
    "## Training\n",
    "\n",
    "This first section covers how to train models using MLFlow."
   ]
  },
  {
   "cell_type": "markdown",
   "metadata": {},
   "source": [
    "### MLproject\n",
    "\n",
    "The MLproject file defines:\n",
    "- The environment where the training runs.\n",
    "- The hyperparameters that can be tweaked. In our case, these are $\\{\\alpha, l_{1}\\}$.\n",
    "- The interface to train the model."
   ]
  },
  {
   "cell_type": "code",
   "execution_count": 1,
   "metadata": {},
   "outputs": [
    {
     "name": "stdout",
     "output_type": "stream",
     "text": [
      "\u001b[34mname\u001b[39;49;00m\u001b[31m:\u001b[39;49;00m \u001b[34mmlflow\u001b[39;49;00m\u001b[31m-\u001b[39;49;00m\u001b[34mtalk\u001b[39;49;00m\r\n",
      "\r\n",
      "\u001b[34mconda_env\u001b[39;49;00m\u001b[31m:\u001b[39;49;00m \u001b[34mconda\u001b[39;49;00m\u001b[31m.\u001b[39;49;00m\u001b[34myaml\u001b[39;49;00m\r\n",
      "\r\n",
      "\u001b[34mentry_points\u001b[39;49;00m\u001b[31m:\u001b[39;49;00m\r\n",
      "  \u001b[34mmain\u001b[39;49;00m\u001b[31m:\u001b[39;49;00m\r\n",
      "    \u001b[34mparameters\u001b[39;49;00m\u001b[31m:\u001b[39;49;00m\r\n",
      "      \u001b[34malpha\u001b[39;49;00m\u001b[31m:\u001b[39;49;00m \u001b[34mfloat\u001b[39;49;00m\r\n",
      "      \u001b[34ml1_ratio\u001b[39;49;00m\u001b[31m:\u001b[39;49;00m \u001b[31m{\u001b[39;49;00m\u001b[34mtype\u001b[39;49;00m\u001b[31m:\u001b[39;49;00m \u001b[34mfloat\u001b[39;49;00m\u001b[31m,\u001b[39;49;00m \u001b[34mdefault\u001b[39;49;00m\u001b[31m:\u001b[39;49;00m \u001b[34m0.1\u001b[39;49;00m\u001b[31m}\u001b[39;49;00m\r\n",
      "    \u001b[34mcommand\u001b[39;49;00m\u001b[31m:\u001b[39;49;00m \u001b[33m\"python train.py {alpha} {l1_ratio}\"\u001b[39;49;00m\r\n"
     ]
    }
   ],
   "source": [
    "!ccat ./training/MLproject"
   ]
  },
  {
   "cell_type": "markdown",
   "metadata": {},
   "source": [
    "This allows us to have a single command to train the model. \n",
    "\n",
    "``` bash\n",
    "$ mlflow run ./training -P alpha=... -P l1_ratio=...\n",
    "```"
   ]
  },
  {
   "cell_type": "code",
   "execution_count": 2,
   "metadata": {},
   "outputs": [
    {
     "name": "stdout",
     "output_type": "stream",
     "text": [
      "2019/11/04 13:54:07 INFO mlflow.projects: === Creating conda environment mlflow-1ecba04797edb7e7f7212d429debd9b664c31651 ===\n",
      "Warning: you have pip-installed dependencies in your environment file, but you do not list pip itself as one of your conda dependencies.  Conda may not use the correct pip to install your packages, and they may end up in the wrong place.  Please add an explicit pip dependency.  I'm adding one for you, but still nagging you.\n",
      "Collecting package metadata (repodata.json): done\n",
      "Solving environment: done\n",
      "\n",
      "\n",
      "==> WARNING: A newer version of conda exists. <==\n",
      "  current version: 4.7.5\n",
      "  latest version: 4.7.12\n",
      "\n",
      "Please update conda by running\n",
      "\n",
      "    $ conda update -n base -c defaults conda\n",
      "\n",
      "\n",
      "\n",
      "Downloading and Extracting Packages\n",
      "tbb-2019.8           | 1.1 MB    | ##################################### | 100% \n",
      "setuptools-41.6.0    | 650 KB    | ##################################### | 100% \n",
      "tbb4py-2019.8        | 207 KB    | ##################################### | 100% \n",
      "Preparing transaction: done\n",
      "Verifying transaction: done\n",
      "Executing transaction: done\n",
      "Ran pip subprocess with arguments:\n",
      "['/home/akash/miniconda3/envs/mlflow-1ecba04797edb7e7f7212d429debd9b664c31651/bin/python', '-m', 'pip', 'install', '-U', '-r', '/home/akash/open_source/av_dhs_demo/mlflow_workflow/training/condaenv.1nno8w4d.requirements.txt']\n",
      "Pip subprocess output:\n",
      "Collecting mlflow>=1.0\n",
      "  Using cached https://files.pythonhosted.org/packages/4f/b5/675b32531c43f0f1445d727b63bc88b3f30467af9e27d0e7d4a243758dbb/mlflow-1.4.0.tar.gz\n",
      "Processing /home/akash/.cache/pip/wheels/40/f8/22/ad0f408796a4c656fae5ee1fd8d8a139b19ca4af61059cea5b/alembic-1.3.0-py2.py3-none-any.whl\n",
      "Collecting click>=7.0\n",
      "  Using cached https://files.pythonhosted.org/packages/fa/37/45185cb5abbc30d7257104c434fe0b07e5a195a6847506c074527aa599ec/Click-7.0-py2.py3-none-any.whl\n",
      "Collecting cloudpickle\n",
      "  Using cached https://files.pythonhosted.org/packages/c1/49/334e279caa3231255725c8e860fa93e72083567625573421db8875846c14/cloudpickle-1.2.2-py2.py3-none-any.whl\n",
      "Collecting databricks-cli>=0.8.7\n",
      "  Using cached https://files.pythonhosted.org/packages/85/03/fb0c4d31559d48f15403ad88aefff8ae0dddbbeab273d198c20232a937c2/databricks-cli-0.9.1.tar.gz\n",
      "Collecting requests>=2.17.3\n",
      "  Using cached https://files.pythonhosted.org/packages/51/bd/23c926cd341ea6b7dd0b2a00aba99ae0f828be89d72b2190f27c11d4b7fb/requests-2.22.0-py2.py3-none-any.whl\n",
      "Collecting six>=1.10.0\n",
      "  Using cached https://files.pythonhosted.org/packages/73/fb/00a976f728d0d1fecfe898238ce23f502a721c0ac0ecfedb80e0d88c64e9/six-1.12.0-py2.py3-none-any.whl\n",
      "Collecting Flask\n",
      "  Using cached https://files.pythonhosted.org/packages/9b/93/628509b8d5dc749656a9641f4caf13540e2cdec85276964ff8f43bbb1d3b/Flask-1.1.1-py2.py3-none-any.whl\n",
      "Requirement already satisfied, skipping upgrade: numpy in /home/akash/miniconda3/envs/mlflow-1ecba04797edb7e7f7212d429debd9b664c31651/lib/python3.6/site-packages (from mlflow>=1.0->-r /home/akash/open_source/av_dhs_demo/mlflow_workflow/training/condaenv.1nno8w4d.requirements.txt (line 1)) (1.15.4)\n",
      "Collecting pandas\n",
      "  Downloading https://files.pythonhosted.org/packages/52/3f/f6a428599e0d4497e1595030965b5ba455fd8ade6e977e3c819973c4b41d/pandas-0.25.3-cp36-cp36m-manylinux1_x86_64.whl (10.4MB)\n",
      "Collecting python-dateutil\n",
      "  Downloading https://files.pythonhosted.org/packages/d4/70/d60450c3dd48ef87586924207ae8907090de0b306af2bce5d134d78615cb/python_dateutil-2.8.1-py2.py3-none-any.whl (227kB)\n",
      "Collecting protobuf>=3.6.0\n",
      "  Using cached https://files.pythonhosted.org/packages/a8/52/d8d2dbff74b8bf517c42db8d44c3f9ef6555e6f5d6caddfa3f207b9143df/protobuf-3.10.0-cp36-cp36m-manylinux1_x86_64.whl\n",
      "Collecting gitpython>=2.1.0\n",
      "  Using cached https://files.pythonhosted.org/packages/aa/25/9fd9f0b05408021736a22ae73f837152c132e4ea85cdd71d186e24efec31/GitPython-3.0.4-py3-none-any.whl\n",
      "Processing /home/akash/.cache/pip/wheels/d9/45/dd/65f0b38450c47cf7e5312883deb97d065e030c5cca0a365030/PyYAML-5.1.2-cp36-cp36m-linux_x86_64.whl\n",
      "Processing /home/akash/.cache/pip/wheels/1e/41/34/23ebf5d1089a9aed847951e0ee375426eb4ad0a7079d88d41e/querystring_parser-1.2.4-cp36-none-any.whl\n",
      "Processing /home/akash/.cache/pip/wheels/5d/1a/1e/0350bb3df3e74215cd91325344cc86c2c691f5306eb4d22c77/simplejson-3.16.0-cp36-cp36m-linux_x86_64.whl\n",
      "Collecting docker>=4.0.0\n",
      "  Using cached https://files.pythonhosted.org/packages/cc/ca/699d4754a932787ef353a157ada74efd1ceb6d1fc0bfb7989ae1e7b33111/docker-4.1.0-py2.py3-none-any.whl\n",
      "Collecting entrypoints\n",
      "  Using cached https://files.pythonhosted.org/packages/ac/c6/44694103f8c221443ee6b0041f69e2740d89a25641e62fb4f2ee568f2f9c/entrypoints-0.3-py2.py3-none-any.whl\n",
      "Collecting sqlparse\n",
      "  Using cached https://files.pythonhosted.org/packages/ef/53/900f7d2a54557c6a37886585a91336520e5539e3ae2423ff1102daf4f3a7/sqlparse-0.3.0-py2.py3-none-any.whl\n",
      "Processing /home/akash/.cache/pip/wheels/4b/b2/89/cd2231ee623987c605f049df55f40a3e4252ef6a15b94836c2/SQLAlchemy-1.3.10-cp36-cp36m-linux_x86_64.whl\n",
      "Collecting gorilla\n",
      "  Using cached https://files.pythonhosted.org/packages/e3/56/5a683944cbfc77e429c6f03c636ca50504a785f60ffae91ddd7f5f7bb520/gorilla-0.3.0-py2.py3-none-any.whl\n",
      "Collecting gunicorn\n",
      "  Using cached https://files.pythonhosted.org/packages/8c/da/b8dd8deb741bff556db53902d4706774c8e1e67265f69528c14c003644e6/gunicorn-19.9.0-py2.py3-none-any.whl\n",
      "Collecting python-editor>=0.3\n",
      "  Using cached https://files.pythonhosted.org/packages/c6/d3/201fc3abe391bbae6606e6f1d598c15d367033332bd54352b12f35513717/python_editor-1.0.4-py3-none-any.whl\n",
      "Processing /home/akash/.cache/pip/wheels/98/32/7b/a291926643fc1d1e02593e0d9e247c5a866a366b8343b7aa27/Mako-1.1.0-cp36-none-any.whl\n",
      "Processing /home/akash/.cache/pip/wheels/e1/41/5e/e201f95d90fc84f93aa629b6638adacda680fe63aac47174ab/tabulate-0.8.5-cp36-none-any.whl\n",
      "Collecting configparser>=0.3.5\n",
      "  Using cached https://files.pythonhosted.org/packages/7a/2a/95ed0501cf5d8709490b1d3a3f9b5cf340da6c433f896bbe9ce08dbe6785/configparser-4.0.2-py2.py3-none-any.whl\n",
      "Collecting urllib3!=1.25.0,!=1.25.1,<1.26,>=1.21.1\n",
      "  Using cached https://files.pythonhosted.org/packages/e0/da/55f51ea951e1b7c63a579c09dd7db825bb730ec1fe9c0180fc77bfb31448/urllib3-1.25.6-py2.py3-none-any.whl\n",
      "Requirement already satisfied, skipping upgrade: certifi>=2017.4.17 in /home/akash/miniconda3/envs/mlflow-1ecba04797edb7e7f7212d429debd9b664c31651/lib/python3.6/site-packages (from requests>=2.17.3->mlflow>=1.0->-r /home/akash/open_source/av_dhs_demo/mlflow_workflow/training/condaenv.1nno8w4d.requirements.txt (line 1)) (2019.9.11)\n",
      "Collecting idna<2.9,>=2.5\n",
      "  Using cached https://files.pythonhosted.org/packages/14/2c/cd551d81dbe15200be1cf41cd03869a46fe7226e7450af7a6545bfc474c9/idna-2.8-py2.py3-none-any.whl\n",
      "Collecting chardet<3.1.0,>=3.0.2\n",
      "  Using cached https://files.pythonhosted.org/packages/bc/a9/01ffebfb562e4274b6487b4bb1ddec7ca55ec7510b22e4c51f14098443b8/chardet-3.0.4-py2.py3-none-any.whl\n",
      "Collecting Jinja2>=2.10.1\n",
      "  Using cached https://files.pythonhosted.org/packages/65/e0/eb35e762802015cab1ccee04e8a277b03f1d8e53da3ec3106882ec42558b/Jinja2-2.10.3-py2.py3-none-any.whl\n",
      "Collecting itsdangerous>=0.24\n",
      "  Using cached https://files.pythonhosted.org/packages/76/ae/44b03b253d6fade317f32c24d100b3b35c2239807046a4c953c7b89fa49e/itsdangerous-1.1.0-py2.py3-none-any.whl\n",
      "Collecting Werkzeug>=0.15\n",
      "  Using cached https://files.pythonhosted.org/packages/ce/42/3aeda98f96e85fd26180534d36570e4d18108d62ae36f87694b476b83d6f/Werkzeug-0.16.0-py2.py3-none-any.whl\n",
      "Collecting pytz>=2017.2\n",
      "  Using cached https://files.pythonhosted.org/packages/e7/f9/f0b53f88060247251bf481fa6ea62cd0d25bf1b11a87888e53ce5b7c8ad2/pytz-2019.3-py2.py3-none-any.whl\n",
      "Requirement already satisfied, skipping upgrade: setuptools in /home/akash/miniconda3/envs/mlflow-1ecba04797edb7e7f7212d429debd9b664c31651/lib/python3.6/site-packages (from protobuf>=3.6.0->mlflow>=1.0->-r /home/akash/open_source/av_dhs_demo/mlflow_workflow/training/condaenv.1nno8w4d.requirements.txt (line 1)) (41.6.0.post20191030)\n",
      "Collecting gitdb2>=2.0.0\n",
      "  Using cached https://files.pythonhosted.org/packages/03/6c/99296f89bad2ef85626e1df9f677acbee8885bb043ad82ad3ed4746d2325/gitdb2-2.0.6-py2.py3-none-any.whl\n",
      "Collecting websocket-client>=0.32.0\n",
      "  Using cached https://files.pythonhosted.org/packages/29/19/44753eab1fdb50770ac69605527e8859468f3c0fd7dc5a76dd9c4dbd7906/websocket_client-0.56.0-py2.py3-none-any.whl\n",
      "Collecting MarkupSafe>=0.9.2\n",
      "  Using cached https://files.pythonhosted.org/packages/b2/5f/23e0023be6bb885d00ffbefad2942bc51a620328ee910f64abe5a8d18dd1/MarkupSafe-1.1.1-cp36-cp36m-manylinux1_x86_64.whl\n",
      "Collecting smmap2>=2.0.0\n",
      "  Using cached https://files.pythonhosted.org/packages/55/d2/866d45e3a121ee15a1dc013824d58072fd5c7799c9c34d01378eb262ca8f/smmap2-2.0.5-py2.py3-none-any.whl\n",
      "Building wheels for collected packages: mlflow, databricks-cli\n",
      "  Building wheel for mlflow (setup.py): started\n",
      "  Building wheel for mlflow (setup.py): finished with status 'done'\n",
      "  Created wheel for mlflow: filename=mlflow-1.4.0-cp36-none-any.whl size=14750368 sha256=18e169b527c775a4702c21beb0053fef834d51f585b463675a51b38d2b4e64f9\n",
      "  Stored in directory: /home/akash/.cache/pip/wheels/5d/0e/cc/79315d41833b92a8a9e276716874f2c1dc654018b44632dc06\n",
      "  Building wheel for databricks-cli (setup.py): started\n",
      "  Building wheel for databricks-cli (setup.py): finished with status 'done'\n",
      "  Created wheel for databricks-cli: filename=databricks_cli-0.9.1-cp36-none-any.whl size=83754 sha256=1ac9c1b7f49415cd4bcb8c7e6d3197d8515a3588c6bcf525c3a0c0b16d812a09\n",
      "  Stored in directory: /home/akash/.cache/pip/wheels/bc/27/58/c6ef96e649962e9584a50f58d5b6abafb71a03512b2e381ad1\n",
      "Successfully built mlflow databricks-cli\n",
      "Installing collected packages: python-editor, MarkupSafe, Mako, sqlalchemy, six, python-dateutil, alembic, click, cloudpickle, urllib3, idna, chardet, requests, tabulate, configparser, databricks-cli, Jinja2, itsdangerous, Werkzeug, Flask, pytz, pandas, protobuf, smmap2, gitdb2, gitpython, pyyaml, querystring-parser, simplejson, websocket-client, docker, entrypoints, sqlparse, gorilla, gunicorn, mlflow\n",
      "Successfully installed Flask-1.1.1 Jinja2-2.10.3 Mako-1.1.0 MarkupSafe-1.1.1 Werkzeug-0.16.0 alembic-1.3.0 chardet-3.0.4 click-7.0 cloudpickle-1.2.2 configparser-4.0.2 databricks-cli-0.9.1 docker-4.1.0 entrypoints-0.3 gitdb2-2.0.6 gitpython-3.0.4 gorilla-0.3.0 gunicorn-19.9.0 idna-2.8 itsdangerous-1.1.0 mlflow-1.4.0 pandas-0.25.3 protobuf-3.10.0 python-dateutil-2.8.1 python-editor-1.0.4 pytz-2019.3 pyyaml-5.1.2 querystring-parser-1.2.4 requests-2.22.0 simplejson-3.16.0 six-1.12.0 smmap2-2.0.5 sqlalchemy-1.3.10 sqlparse-0.3.0 tabulate-0.8.5 urllib3-1.25.6 websocket-client-0.56.0\n",
      "\n",
      "#\n",
      "# To activate this environment, use\n",
      "#\n",
      "#     $ conda activate mlflow-1ecba04797edb7e7f7212d429debd9b664c31651\n",
      "#\n",
      "# To deactivate an active environment, use\n",
      "#\n",
      "#     $ conda deactivate\n",
      "\n"
     ]
    },
    {
     "name": "stdout",
     "output_type": "stream",
     "text": [
      "2019/11/04 13:54:40 INFO mlflow.projects: === Created directory /tmp/tmphh_ruw8v for downloading remote URIs passed to arguments of type 'path' ===\n",
      "2019/11/04 13:54:40 INFO mlflow.projects: === Running command 'source /home/akash/miniconda3/bin/../etc/profile.d/conda.sh && conda activate mlflow-1ecba04797edb7e7f7212d429debd9b664c31651 1>&2 && python train.py 0.5 0.1' in run with ID 'b3a8b5eda5454b5ba42edd123ca1e51a' === \n",
      "Elasticnet model (alpha=0.500000, l1_ratio=0.100000):\n",
      "  RMSE: 0.7947931019036529\n",
      "  MAE: 0.6189130834228138\n",
      "  R2: 0.18411668718221819\n",
      "2019/11/04 13:54:43 INFO mlflow.projects: === Run (ID 'b3a8b5eda5454b5ba42edd123ca1e51a') succeeded ===\n"
     ]
    }
   ],
   "source": [
    "!mlflow run ./training -P alpha=0.5"
   ]
  },
  {
   "cell_type": "markdown",
   "metadata": {},
   "source": [
    "### MLtrack\n",
    "\n",
    "The `train.py` script uses the `mlflow.log_param()` and `mlflow.log_metric()` commands to track each experiment. These are part of the `MLtrack` API, which tracks experiments parameters and results. These can be stored on a remote server, which can then be shared across the entire team. However, on our example we will store these locally on a `mlruns` folder."
   ]
  },
  {
   "cell_type": "code",
   "execution_count": 3,
   "metadata": {},
   "outputs": [
    {
     "name": "stdout",
     "output_type": "stream",
     "text": [
      "\u001b[01;34mmlruns\u001b[00m\r\n",
      "└── \u001b[01;34m0\u001b[00m\r\n",
      "    ├── \u001b[01;34mb3a8b5eda5454b5ba42edd123ca1e51a\u001b[00m\r\n",
      "    │   ├── \u001b[01;34martifacts\u001b[00m\r\n",
      "    │   │   └── \u001b[01;34mmodel\u001b[00m\r\n",
      "    │   │       ├── conda.yaml\r\n",
      "    │   │       ├── MLmodel\r\n",
      "    │   │       └── model.pkl\r\n",
      "    │   ├── meta.yaml\r\n",
      "    │   ├── \u001b[01;34mmetrics\u001b[00m\r\n",
      "    │   │   ├── mae\r\n",
      "    │   │   ├── r2\r\n",
      "    │   │   └── rmse\r\n",
      "    │   ├── \u001b[01;34mparams\u001b[00m\r\n",
      "    │   │   ├── alpha\r\n",
      "    │   │   └── l1_ratio\r\n",
      "    │   └── \u001b[01;34mtags\u001b[00m\r\n",
      "    │       ├── mlflow.project.backend\r\n",
      "    │       ├── mlflow.project.entryPoint\r\n",
      "    │       ├── mlflow.project.env\r\n",
      "    │       ├── mlflow.source.git.commit\r\n",
      "    │       ├── mlflow.source.name\r\n",
      "    │       ├── mlflow.source.type\r\n",
      "    │       └── mlflow.user\r\n",
      "    └── meta.yaml\r\n",
      "\r\n",
      "7 directories, 17 files\r\n"
     ]
    }
   ],
   "source": [
    "!tree mlruns"
   ]
  },
  {
   "cell_type": "markdown",
   "metadata": {},
   "source": [
    "We can also run `mlflow ui` to show these visually. This will start the MLflow server in http://localhost:5000.\n",
    "\n",
    "```bash\n",
    "$ mlflow ui\n",
    "```"
   ]
  },
  {
   "cell_type": "code",
   "execution_count": 4,
   "metadata": {},
   "outputs": [
    {
     "name": "stdout",
     "output_type": "stream",
     "text": [
      "2019/10/30 10:46:46 INFO mlflow.projects: === Created directory /tmp/tmpli5tnl3g for downloading remote URIs passed to arguments of type 'path' ===\n",
      "2019/10/30 10:46:46 INFO mlflow.projects: === Running command 'source /home/akash/miniconda3/bin/../etc/profile.d/conda.sh && conda activate mlflow-1ecba04797edb7e7f7212d429debd9b664c31651 1>&2 && python train.py 0.4 0.1' in run with ID '94a106dced9248989003ca6d200c2742' === \n",
      "Elasticnet model (alpha=0.400000, l1_ratio=0.100000):\n",
      "  RMSE: 0.7909069124367867\n",
      "  MAE: 0.6174288492244517\n",
      "  R2: 0.19207580388574486\n",
      "2019/10/30 10:46:48 INFO mlflow.projects: === Run (ID '94a106dced9248989003ca6d200c2742') succeeded ===\n"
     ]
    }
   ],
   "source": [
    "!mlflow run ./training -P alpha=0.4"
   ]
  },
  {
   "cell_type": "code",
   "execution_count": 5,
   "metadata": {},
   "outputs": [
    {
     "name": "stdout",
     "output_type": "stream",
     "text": [
      "[2019-10-29 22:52:05 +0530] [10249] [INFO] Starting gunicorn 19.9.0\n",
      "[2019-10-29 22:52:05 +0530] [10249] [INFO] Listening at: http://127.0.0.1:5000 (10249)\n",
      "[2019-10-29 22:52:05 +0530] [10249] [INFO] Using worker: sync\n",
      "[2019-10-29 22:52:05 +0530] [10260] [INFO] Booting worker with pid: 10260\n",
      "^C\n",
      "[2019-10-29 22:53:00 +0530] [10249] [INFO] Handling signal: int\n",
      "[2019-10-29 22:53:00 +0530] [10260] [INFO] Worker exiting (pid: 10260)\n"
     ]
    }
   ],
   "source": [
    "# !mlflow ui"
   ]
  },
  {
   "cell_type": "markdown",
   "metadata": {},
   "source": [
    "![MLFlow UI](./images/mlflow-ui.png)"
   ]
  },
  {
   "cell_type": "markdown",
   "metadata": {},
   "source": [
    "### MLmodel\n",
    "\n",
    "The `MLmodel` file allows us to version and share models easily. Below we can see an example."
   ]
  },
  {
   "cell_type": "code",
   "execution_count": 7,
   "metadata": {},
   "outputs": [
    {
     "name": "stdout",
     "output_type": "stream",
     "text": [
      "\u001b[34martifact_path\u001b[39;49;00m\u001b[31m:\u001b[39;49;00m \u001b[34mmodel\u001b[39;49;00m\r\n",
      "\u001b[34mflavors\u001b[39;49;00m\u001b[31m:\u001b[39;49;00m\r\n",
      "  \u001b[34mpython_function\u001b[39;49;00m\u001b[31m:\u001b[39;49;00m\r\n",
      "    \u001b[34mdata\u001b[39;49;00m\u001b[31m:\u001b[39;49;00m \u001b[34mmodel\u001b[39;49;00m\u001b[31m.\u001b[39;49;00m\u001b[34mpkl\u001b[39;49;00m\r\n",
      "    \u001b[34menv\u001b[39;49;00m\u001b[31m:\u001b[39;49;00m \u001b[34mconda\u001b[39;49;00m\u001b[31m.\u001b[39;49;00m\u001b[34myaml\u001b[39;49;00m\r\n",
      "    \u001b[34mloader_module\u001b[39;49;00m\u001b[31m:\u001b[39;49;00m \u001b[34mmlflow\u001b[39;49;00m\u001b[31m.\u001b[39;49;00m\u001b[34msklearn\u001b[39;49;00m\r\n",
      "    \u001b[34mpython_version\u001b[39;49;00m\u001b[31m:\u001b[39;49;00m \u001b[34m3.6\u001b[39;49;00m\u001b[34m.9\u001b[39;49;00m\r\n",
      "  \u001b[34msklearn\u001b[39;49;00m\u001b[31m:\u001b[39;49;00m\r\n",
      "    \u001b[34mpickled_model\u001b[39;49;00m\u001b[31m:\u001b[39;49;00m \u001b[34mmodel\u001b[39;49;00m\u001b[31m.\u001b[39;49;00m\u001b[34mpkl\u001b[39;49;00m\r\n",
      "    \u001b[34mserialization_format\u001b[39;49;00m\u001b[31m:\u001b[39;49;00m \u001b[34mcloudpickle\u001b[39;49;00m\r\n",
      "    \u001b[34msklearn_version\u001b[39;49;00m\u001b[31m:\u001b[39;49;00m \u001b[34m0.19\u001b[39;49;00m\u001b[34m.1\u001b[39;49;00m\r\n",
      "\u001b[34mrun_id\u001b[39;49;00m\u001b[31m:\u001b[39;49;00m \u001b[34m539\u001b[39;49;00m\u001b[34mb7e5225844c88a764baaa10112f00\u001b[39;49;00m\r\n",
      "\u001b[34mutc_time_created\u001b[39;49;00m\u001b[31m:\u001b[39;49;00m \u001b[33m'2019-10-29 17:20:24.407684'\u001b[39;49;00m\r\n"
     ]
    }
   ],
   "source": [
    "!ccat ./mlruns/0/539b7e5225844c88a764baaa10112f00/artifacts/model/MLmodel"
   ]
  },
  {
   "cell_type": "markdown",
   "metadata": {},
   "source": [
    "As we can see above the `MLmodel` keeps track, between others, of\n",
    "\n",
    "- The experiment id, `539b7e5225844c88a764baaa10112f00`\n",
    "- Date \n",
    "- Version of `sklearn` \n",
    "- How the model was stored\n",
    "\n",
    "As we shall see shortly, the MLFlow model server will use this file to serve this model."
   ]
  },
  {
   "cell_type": "markdown",
   "metadata": {
    "toc-hr-collapsed": false
   },
   "source": [
    "## Serving"
   ]
  },
  {
   "cell_type": "markdown",
   "metadata": {
    "toc-hr-collapsed": false
   },
   "source": [
    "### Set up"
   ]
  },
  {
   "cell_type": "code",
   "execution_count": 5,
   "metadata": {},
   "outputs": [
    {
     "name": "stdout",
     "output_type": "stream",
     "text": [
      "2019/10/30 17:42:23 INFO mlflow.models.cli: Selected backend for flavor 'python_function'\n",
      "2019/10/30 17:42:24 INFO mlflow.projects: === Creating conda environment mlflow-a0195768c92ab9f83c11ac37cf0491c5140e197d ===\n",
      "Warning: you have pip-installed dependencies in your environment file, but you do not list pip itself as one of your conda dependencies.  Conda may not use the correct pip to install your packages, and they may end up in the wrong place.  Please add an explicit pip dependency.  I'm adding one for you, but still nagging you.\n",
      "Collecting package metadata (repodata.json): done\n",
      "Solving environment: done\n",
      "\n",
      "\n",
      "==> WARNING: A newer version of conda exists. <==\n",
      "  current version: 4.7.5\n",
      "  latest version: 4.7.12\n",
      "\n",
      "Please update conda by running\n",
      "\n",
      "    $ conda update -n base -c defaults conda\n",
      "\n",
      "\n",
      "Preparing transaction: done\n",
      "Verifying transaction: done\n",
      "Executing transaction: done\n",
      "Ran pip subprocess with arguments:\n",
      "['/home/akash/miniconda3/envs/mlflow-a0195768c92ab9f83c11ac37cf0491c5140e197d/bin/python', '-m', 'pip', 'install', '-U', '-r', '/home/akash/open_source/av_dhs_demo/mlruns/0/733d504633c745ddaf5f6ae4607d1022/artifacts/model/condaenv.z9mc_vut.requirements.txt']\n",
      "Pip subprocess output:\n",
      "Processing /home/akash/.cache/pip/wheels/f1/e0/1c/663c9b2bb00f32c235c98a43c39d81c2a25544a889a32649ea/mlflow-1.3.0-cp36-none-any.whl\n",
      "Collecting cloudpickle==1.2.2\n",
      "  Using cached https://files.pythonhosted.org/packages/c1/49/334e279caa3231255725c8e860fa93e72083567625573421db8875846c14/cloudpickle-1.2.2-py2.py3-none-any.whl\n",
      "Collecting gorilla\n",
      "  Using cached https://files.pythonhosted.org/packages/e3/56/5a683944cbfc77e429c6f03c636ca50504a785f60ffae91ddd7f5f7bb520/gorilla-0.3.0-py2.py3-none-any.whl\n",
      "Requirement already satisfied, skipping upgrade: numpy in /home/akash/miniconda3/envs/mlflow-a0195768c92ab9f83c11ac37cf0491c5140e197d/lib/python3.6/site-packages (from mlflow->-r /home/akash/open_source/av_dhs_demo/mlruns/0/733d504633c745ddaf5f6ae4607d1022/artifacts/model/condaenv.z9mc_vut.requirements.txt (line 1)) (1.15.4)\n",
      "Collecting six>=1.10.0\n",
      "  Using cached https://files.pythonhosted.org/packages/73/fb/00a976f728d0d1fecfe898238ce23f502a721c0ac0ecfedb80e0d88c64e9/six-1.12.0-py2.py3-none-any.whl\n",
      "Collecting click>=7.0\n",
      "  Using cached https://files.pythonhosted.org/packages/fa/37/45185cb5abbc30d7257104c434fe0b07e5a195a6847506c074527aa599ec/Click-7.0-py2.py3-none-any.whl\n",
      "Processing /home/akash/.cache/pip/wheels/4b/b2/89/cd2231ee623987c605f049df55f40a3e4252ef6a15b94836c2/SQLAlchemy-1.3.10-cp36-cp36m-linux_x86_64.whl\n",
      "Collecting python-dateutil\n",
      "  Using cached https://files.pythonhosted.org/packages/41/17/c62faccbfbd163c7f57f3844689e3a78bae1f403648a6afb1d0866d87fbb/python_dateutil-2.8.0-py2.py3-none-any.whl\n",
      "Collecting requests>=2.17.3\n",
      "  Using cached https://files.pythonhosted.org/packages/51/bd/23c926cd341ea6b7dd0b2a00aba99ae0f828be89d72b2190f27c11d4b7fb/requests-2.22.0-py2.py3-none-any.whl\n",
      "Collecting gunicorn; platform_system != \"Windows\"\n",
      "  Using cached https://files.pythonhosted.org/packages/8c/da/b8dd8deb741bff556db53902d4706774c8e1e67265f69528c14c003644e6/gunicorn-19.9.0-py2.py3-none-any.whl\n",
      "Collecting Flask\n",
      "  Using cached https://files.pythonhosted.org/packages/9b/93/628509b8d5dc749656a9641f4caf13540e2cdec85276964ff8f43bbb1d3b/Flask-1.1.1-py2.py3-none-any.whl\n",
      "Processing /home/akash/.cache/pip/wheels/c6/b8/fd/1f16371156a8184172c4935cbbef6a345d57dd447e31a36633/alembic-1.2.1-py2.py3-none-any.whl\n",
      "Collecting pandas\n",
      "  Using cached https://files.pythonhosted.org/packages/86/12/08b092f6fc9e4c2552e37add0861d0e0e0d743f78f1318973caad970b3fc/pandas-0.25.2-cp36-cp36m-manylinux1_x86_64.whl\n",
      "Collecting protobuf>=3.6.0\n",
      "  Using cached https://files.pythonhosted.org/packages/a8/52/d8d2dbff74b8bf517c42db8d44c3f9ef6555e6f5d6caddfa3f207b9143df/protobuf-3.10.0-cp36-cp36m-manylinux1_x86_64.whl\n",
      "Collecting gitpython>=2.1.0\n",
      "  Using cached https://files.pythonhosted.org/packages/aa/25/9fd9f0b05408021736a22ae73f837152c132e4ea85cdd71d186e24efec31/GitPython-3.0.4-py3-none-any.whl\n",
      "Processing /home/akash/.cache/pip/wheels/5d/1a/1e/0350bb3df3e74215cd91325344cc86c2c691f5306eb4d22c77/simplejson-3.16.0-cp36-cp36m-linux_x86_64.whl\n",
      "Collecting entrypoints\n",
      "  Using cached https://files.pythonhosted.org/packages/ac/c6/44694103f8c221443ee6b0041f69e2740d89a25641e62fb4f2ee568f2f9c/entrypoints-0.3-py2.py3-none-any.whl\n",
      "Processing /home/akash/.cache/pip/wheels/1e/41/34/23ebf5d1089a9aed847951e0ee375426eb4ad0a7079d88d41e/querystring_parser-1.2.4-cp36-none-any.whl\n",
      "Collecting docker>=4.0.0\n",
      "  Using cached https://files.pythonhosted.org/packages/cc/ca/699d4754a932787ef353a157ada74efd1ceb6d1fc0bfb7989ae1e7b33111/docker-4.1.0-py2.py3-none-any.whl\n",
      "Processing /home/akash/.cache/pip/wheels/e8/ce/cd/9d2214455ef53a4d9cdbca640dc27828a6c88cd5ef7d0c04de/databricks_cli-0.9.0-cp36-none-any.whl\n",
      "Processing /home/akash/.cache/pip/wheels/d9/45/dd/65f0b38450c47cf7e5312883deb97d065e030c5cca0a365030/PyYAML-5.1.2-cp36-cp36m-linux_x86_64.whl\n",
      "Collecting sqlparse\n",
      "  Using cached https://files.pythonhosted.org/packages/ef/53/900f7d2a54557c6a37886585a91336520e5539e3ae2423ff1102daf4f3a7/sqlparse-0.3.0-py2.py3-none-any.whl\n",
      "Collecting chardet<3.1.0,>=3.0.2\n",
      "  Using cached https://files.pythonhosted.org/packages/bc/a9/01ffebfb562e4274b6487b4bb1ddec7ca55ec7510b22e4c51f14098443b8/chardet-3.0.4-py2.py3-none-any.whl\n",
      "Requirement already satisfied, skipping upgrade: certifi>=2017.4.17 in /home/akash/miniconda3/envs/mlflow-a0195768c92ab9f83c11ac37cf0491c5140e197d/lib/python3.6/site-packages (from requests>=2.17.3->mlflow->-r /home/akash/open_source/av_dhs_demo/mlruns/0/733d504633c745ddaf5f6ae4607d1022/artifacts/model/condaenv.z9mc_vut.requirements.txt (line 1)) (2019.9.11)\n",
      "Collecting urllib3!=1.25.0,!=1.25.1,<1.26,>=1.21.1\n",
      "  Using cached https://files.pythonhosted.org/packages/e0/da/55f51ea951e1b7c63a579c09dd7db825bb730ec1fe9c0180fc77bfb31448/urllib3-1.25.6-py2.py3-none-any.whl\n",
      "Collecting idna<2.9,>=2.5\n",
      "  Using cached https://files.pythonhosted.org/packages/14/2c/cd551d81dbe15200be1cf41cd03869a46fe7226e7450af7a6545bfc474c9/idna-2.8-py2.py3-none-any.whl\n",
      "Collecting Jinja2>=2.10.1\n",
      "  Using cached https://files.pythonhosted.org/packages/65/e0/eb35e762802015cab1ccee04e8a277b03f1d8e53da3ec3106882ec42558b/Jinja2-2.10.3-py2.py3-none-any.whl\n",
      "Collecting Werkzeug>=0.15\n",
      "  Using cached https://files.pythonhosted.org/packages/ce/42/3aeda98f96e85fd26180534d36570e4d18108d62ae36f87694b476b83d6f/Werkzeug-0.16.0-py2.py3-none-any.whl\n",
      "Collecting itsdangerous>=0.24\n",
      "  Using cached https://files.pythonhosted.org/packages/76/ae/44b03b253d6fade317f32c24d100b3b35c2239807046a4c953c7b89fa49e/itsdangerous-1.1.0-py2.py3-none-any.whl\n",
      "Processing /home/akash/.cache/pip/wheels/98/32/7b/a291926643fc1d1e02593e0d9e247c5a866a366b8343b7aa27/Mako-1.1.0-cp36-none-any.whl\n",
      "Collecting python-editor>=0.3\n",
      "  Using cached https://files.pythonhosted.org/packages/c6/d3/201fc3abe391bbae6606e6f1d598c15d367033332bd54352b12f35513717/python_editor-1.0.4-py3-none-any.whl\n",
      "Collecting pytz>=2017.2\n",
      "  Using cached https://files.pythonhosted.org/packages/e7/f9/f0b53f88060247251bf481fa6ea62cd0d25bf1b11a87888e53ce5b7c8ad2/pytz-2019.3-py2.py3-none-any.whl\n",
      "Requirement already satisfied, skipping upgrade: setuptools in /home/akash/miniconda3/envs/mlflow-a0195768c92ab9f83c11ac37cf0491c5140e197d/lib/python3.6/site-packages (from protobuf>=3.6.0->mlflow->-r /home/akash/open_source/av_dhs_demo/mlruns/0/733d504633c745ddaf5f6ae4607d1022/artifacts/model/condaenv.z9mc_vut.requirements.txt (line 1)) (41.4.0)\n",
      "Collecting gitdb2>=2.0.0\n",
      "  Using cached https://files.pythonhosted.org/packages/03/6c/99296f89bad2ef85626e1df9f677acbee8885bb043ad82ad3ed4746d2325/gitdb2-2.0.6-py2.py3-none-any.whl\n",
      "Collecting websocket-client>=0.32.0\n",
      "  Using cached https://files.pythonhosted.org/packages/29/19/44753eab1fdb50770ac69605527e8859468f3c0fd7dc5a76dd9c4dbd7906/websocket_client-0.56.0-py2.py3-none-any.whl\n",
      "Collecting configparser>=0.3.5\n",
      "  Using cached https://files.pythonhosted.org/packages/7a/2a/95ed0501cf5d8709490b1d3a3f9b5cf340da6c433f896bbe9ce08dbe6785/configparser-4.0.2-py2.py3-none-any.whl\n",
      "Processing /home/akash/.cache/pip/wheels/e1/41/5e/e201f95d90fc84f93aa629b6638adacda680fe63aac47174ab/tabulate-0.8.5-cp36-none-any.whl\n",
      "Collecting MarkupSafe>=0.23\n",
      "  Using cached https://files.pythonhosted.org/packages/b2/5f/23e0023be6bb885d00ffbefad2942bc51a620328ee910f64abe5a8d18dd1/MarkupSafe-1.1.1-cp36-cp36m-manylinux1_x86_64.whl\n",
      "Collecting smmap2>=2.0.0\n",
      "  Using cached https://files.pythonhosted.org/packages/55/d2/866d45e3a121ee15a1dc013824d58072fd5c7799c9c34d01378eb262ca8f/smmap2-2.0.5-py2.py3-none-any.whl\n",
      "Installing collected packages: gorilla, six, click, sqlalchemy, python-dateutil, chardet, urllib3, idna, requests, gunicorn, cloudpickle, MarkupSafe, Jinja2, Werkzeug, itsdangerous, Flask, Mako, python-editor, alembic, pytz, pandas, protobuf, smmap2, gitdb2, gitpython, simplejson, entrypoints, querystring-parser, websocket-client, docker, configparser, tabulate, databricks-cli, pyyaml, sqlparse, mlflow\n",
      "Successfully installed Flask-1.1.1 Jinja2-2.10.3 Mako-1.1.0 MarkupSafe-1.1.1 Werkzeug-0.16.0 alembic-1.2.1 chardet-3.0.4 click-7.0 cloudpickle-1.2.2 configparser-4.0.2 databricks-cli-0.9.0 docker-4.1.0 entrypoints-0.3 gitdb2-2.0.6 gitpython-3.0.4 gorilla-0.3.0 gunicorn-19.9.0 idna-2.8 itsdangerous-1.1.0 mlflow-1.3.0 pandas-0.25.2 protobuf-3.10.0 python-dateutil-2.8.0 python-editor-1.0.4 pytz-2019.3 pyyaml-5.1.2 querystring-parser-1.2.4 requests-2.22.0 simplejson-3.16.0 six-1.12.0 smmap2-2.0.5 sqlalchemy-1.3.10 sqlparse-0.3.0 tabulate-0.8.5 urllib3-1.25.6 websocket-client-0.56.0\n",
      "\n",
      "#\n",
      "# To activate this environment, use\n",
      "#\n",
      "#     $ conda activate mlflow-a0195768c92ab9f83c11ac37cf0491c5140e197d\n",
      "#\n",
      "# To deactivate an active environment, use\n",
      "#\n",
      "#     $ conda deactivate\n",
      "\n"
     ]
    },
    {
     "name": "stdout",
     "output_type": "stream",
     "text": [
      "2019/10/30 17:42:47 INFO mlflow.pyfunc.backend: === Running command 'source /home/akash/miniconda3/bin/../etc/profile.d/conda.sh && conda activate mlflow-a0195768c92ab9f83c11ac37cf0491c5140e197d 1>&2 && gunicorn --timeout=60 -b 127.0.0.1:1234 -w 1 ${GUNICORN_CMD_ARGS} -- mlflow.pyfunc.scoring_server.wsgi:app'\n",
      "[2019-10-30 17:42:47 +0530] [19320] [INFO] Starting gunicorn 19.9.0\n",
      "[2019-10-30 17:42:47 +0530] [19320] [INFO] Listening at: http://127.0.0.1:1234 (19320)\n",
      "[2019-10-30 17:42:47 +0530] [19320] [INFO] Using worker: sync\n",
      "[2019-10-30 17:42:47 +0530] [19329] [INFO] Booting worker with pid: 19329\n",
      "/home/akash/miniconda3/envs/mlflow-a0195768c92ab9f83c11ac37cf0491c5140e197d/lib/python3.6/site-packages/mlflow/pyfunc/__init__.py:281: DeprecationWarning: .. Warning:: ``mlflow.pyfunc.load_pyfunc`` is deprecated since 1.0. This method will be removed in a near future release. Use ``mlflow.pyfunc.load_model`` instead.\n",
      "  return load_pyfunc(model_uri, suppress_warnings)\n",
      "^C\n",
      "[2019-10-30 17:44:06 +0530] [19320] [INFO] Handling signal: int\n",
      "[2019-10-30 17:44:07 +0530] [19329] [INFO] Worker exiting (pid: 19329)\n"
     ]
    }
   ],
   "source": [
    "# !mlflow models serve -m ./mlruns/0/733d504633c745ddaf5f6ae4607d1022/artifacts/model -p 1234"
   ]
  },
  {
   "cell_type": "markdown",
   "metadata": {},
   "source": [
    "#### Test models\n",
    "\n",
    "We will now run a sample query to test that the deployment is working."
   ]
  },
  {
   "cell_type": "code",
   "execution_count": 8,
   "metadata": {},
   "outputs": [
    {
     "name": "stdout",
     "output_type": "stream",
     "text": [
      "[4.203048595214434]"
     ]
    }
   ],
   "source": [
    "!curl -X POST -H \"Content-Type:application/json; format=pandas-split\" \\\n",
    "  --data '{\"columns\":[\"alcohol\", \"chlorides\", \"citric acid\", \"density\", \"fixed acidity\", \"free sulfur dioxide\", \"pH\", \"residual sugar\", \"sulphates\", \"total sulfur dioxide\", \"volatile acidity\"],\"data\":[[12.8, 0.029, 0.48, 0.98, 6.2, 29, 3.33, 1.2, 0.39, 75, 0.66]]}' http://127.0.0.1:1234/invocations"
   ]
  }
 ],
 "metadata": {
  "kernelspec": {
   "display_name": "Python 3",
   "language": "python",
   "name": "python3"
  },
  "language_info": {
   "codemirror_mode": {
    "name": "ipython",
    "version": 3
   },
   "file_extension": ".py",
   "mimetype": "text/x-python",
   "name": "python",
   "nbconvert_exporter": "python",
   "pygments_lexer": "ipython3",
   "version": "3.7.5"
  },
  "toc-showmarkdowntxt": false,
  "toc-showtags": false
 },
 "nbformat": 4,
 "nbformat_minor": 4
}
